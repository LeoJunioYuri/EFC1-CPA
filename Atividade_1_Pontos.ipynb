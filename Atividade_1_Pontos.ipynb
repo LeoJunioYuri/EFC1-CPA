{
  "cells": [
    {
      "cell_type": "markdown",
      "metadata": {
        "id": "view-in-github",
        "colab_type": "text"
      },
      "source": [
        "<a href=\"https://colab.research.google.com/github/LeoJunioYuri/EFC1-CPA/blob/main/Atividade_1_Pontos.ipynb\" target=\"_parent\"><img src=\"https://colab.research.google.com/assets/colab-badge.svg\" alt=\"Open In Colab\"/></a>"
      ]
    },
    {
      "cell_type": "markdown",
      "metadata": {
        "id": "XAdlKnDBj5uB"
      },
      "source": [
        "# EFC1 GCC253 - Complexidade e Projeto de Algoritmos - 5 pontos.\n",
        "\n",
        "\n",
        "> **Prof.: Douglas H. S. Abreu**\n",
        "\n",
        "\n",
        "**Alunos**: Leonardo Junio Yuri da Silva Basso, Lucas Silva Silvério, Vinicius Abreu Gonçalves\n",
        "\n",
        "**Matriculas**: 201820277, 201820372, 201820362\n",
        "\n",
        "**Turma**: 10A, 14A\n",
        "\n",
        "Link do repositório GitHub: \n",
        "\n",
        "● O trabalho deve ser feito em grupos de no máximo 4 componentes (Apenas um deve enviar a atividade no Campus Virtual)\n",
        "\n",
        "● Trabalhos entregues após a data limite não serão aceitos\n",
        "\n",
        "● Data limite de entrega: 20 de Novembro de 2022 : 23h55m\n",
        "\n",
        "● Enviar o trabalho para o campus virtual, do seguinte modo: link do repositório GitHub com acesso ao Notebook.\n",
        "\n",
        "● O trabalho deve ser desenvolvido no modelo Notebook utilizando preferencialmente a linguagem Python"
      ]
    },
    {
      "cell_type": "markdown",
      "metadata": {
        "id": "J3d6JlRUxREN"
      },
      "source": [
        "# Importações e Variáveis globais"
      ]
    },
    {
      "cell_type": "code",
      "execution_count": null,
      "metadata": {
        "id": "Ur1DVGQAxac4"
      },
      "outputs": [],
      "source": [
        "entrada1=[-15, 59, 26, 41, -5, 2, 64, 1, 32, 58]\n",
        "entrada2=[-5, 1, 78, -10, 25, 3, 12, 0, 12, 6, 8]\n",
        "entrada3=[-8, -45, 2, 74, 1, 56, -2, 14, 9, 125, -125, 20, 6, 75]"
      ]
    },
    {
      "cell_type": "markdown",
      "metadata": {
        "id": "kPNpzNYwkKAO"
      },
      "source": [
        "# Funções de Ordenação\n",
        "\n",
        "> Utilize este espaço para definir as funções de ordenação.\n",
        "\n"
      ]
    },
    {
      "cell_type": "markdown",
      "metadata": {
        "id": "nEw1UEsmoKMg"
      },
      "source": [
        "##  Insertion Sort\n"
      ]
    },
    {
      "cell_type": "code",
      "execution_count": null,
      "metadata": {
        "id": "kbOrhdB-j_px"
      },
      "outputs": [],
      "source": [
        "def insertionSort(A):\n",
        "  for j in range(1, len(A)):\n",
        "    key = A[j]\n",
        "    i = j-1\n",
        "    while i>=0 and A[i]>key:\n",
        "      A[i+1] = A[i]\n",
        "      i = i-1\n",
        "    A[i+1] = key\n",
        "  return A"
      ]
    },
    {
      "cell_type": "markdown",
      "metadata": {
        "id": "9a-wJwU-wtmQ"
      },
      "source": [
        "##  Merge Sort\n"
      ]
    },
    {
      "cell_type": "code",
      "execution_count": null,
      "metadata": {
        "id": "8cgIJ_4EwbPN"
      },
      "outputs": [],
      "source": [
        "def mergeSort(A):\n",
        "    if len(A)>1:\n",
        "        mid = len(A)//2\n",
        "        lefthalf = A[:mid]\n",
        "        righthalf = A[mid:]\n",
        "\n",
        "        mergeSort(lefthalf)\n",
        "        mergeSort(righthalf)\n",
        "\n",
        "        i=0\n",
        "        j=0\n",
        "        k=0\n",
        "        while i < len(lefthalf) and j < len(righthalf):\n",
        "            if lefthalf[i] < righthalf[j]:\n",
        "                A[k]=lefthalf[i]\n",
        "                i=i+1\n",
        "            else:\n",
        "                A[k]=righthalf[j]\n",
        "                j=j+1\n",
        "            k=k+1\n",
        "\n",
        "        while i < len(lefthalf):\n",
        "            A[k]=lefthalf[i]\n",
        "            i=i+1\n",
        "            k=k+1\n",
        "\n",
        "        while j < len(righthalf):\n",
        "            A[k]=righthalf[j]\n",
        "            j=j+1\n",
        "            k=k+1\n",
        "    return A"
      ]
    },
    {
      "cell_type": "markdown",
      "metadata": {
        "id": "8dWpeYUvw-wU"
      },
      "source": [
        "##  Selection Sort\n"
      ]
    },
    {
      "cell_type": "code",
      "execution_count": null,
      "metadata": {
        "id": "vNgUDShawygu"
      },
      "outputs": [],
      "source": [
        "def selectionSort(A):\n",
        "  for j in range(len(A)):\n",
        "    min_index = j\n",
        "    for i in range(j+1, len(A)):\n",
        "      if A[i] < A[min_index]:\n",
        "        min_index = i\n",
        "    (A[j], A[min_index]) = (A[min_index], A[j])\n",
        "  return A"
      ]
    },
    {
      "cell_type": "markdown",
      "metadata": {
        "id": "zNI1kX0yyDrs"
      },
      "source": [
        "##  Bubble Sort\n"
      ]
    },
    {
      "cell_type": "code",
      "execution_count": null,
      "metadata": {
        "id": "6X_zk1yWxMQS"
      },
      "outputs": [],
      "source": [
        "def bubbleSort(A):\n",
        "  for i in range(len(A)):\n",
        "    for j in range(0, len(A) - i - 1):\n",
        "      if A[j] > A[j + 1]:\n",
        "        temp = A[j]\n",
        "        A[j] = A[j+1]\n",
        "        A[j+1] = temp\n",
        "  return A"
      ]
    },
    {
      "cell_type": "markdown",
      "metadata": {
        "id": "vk4vOTkKyLB-"
      },
      "source": [
        "## Heap Sort"
      ]
    },
    {
      "cell_type": "code",
      "execution_count": null,
      "metadata": {
        "id": "39a7xXzLyH9g"
      },
      "outputs": [],
      "source": [
        "def heapify(A, n, i):\n",
        "    largest = i \n",
        "    l = 2 * i + 1  \n",
        "    r = 2 * i + 2  \n",
        " \n",
        "    if l < n and A[i] < A[l]:\n",
        "        largest = l \n",
        "    if r < n and A[largest] < A[r]:\n",
        "        largest = r \n",
        "    if largest != i:\n",
        "        (A[i], A[largest]) = (A[largest], A[i])  \n",
        "        heapify(A, n, largest)\n",
        "\n",
        "def heapSort(A):\n",
        "  n = len(A)\n",
        "  for i in range(n // 2 - 1, -1, -1):\n",
        "      heapify(A, n, i)\n",
        "  for i in range(n - 1, 0, -1):\n",
        "      (A[i], A[0]) = (A[0], A[i])  \n",
        "      heapify(A, i, 0)\n",
        "  return A"
      ]
    },
    {
      "cell_type": "markdown",
      "metadata": {
        "id": "fFiGho5CyU3t"
      },
      "source": [
        "## Quick Sort com pivo sendo o ultimo elemento do arranjo\n",
        "\n",
        "> pivo = *A[A-comprimento]*"
      ]
    },
    {
      "cell_type": "code",
      "execution_count": null,
      "metadata": {
        "id": "1Ie_N5CRyKY7"
      },
      "outputs": [],
      "source": [
        "def particao(A, esquerda, direita):\n",
        "    pivo = A[direita]\n",
        "    i = esquerda - 1\n",
        "    for j in range(esquerda, direita):\n",
        "        if A[j] <= pivo:\n",
        "            i = i + 1\n",
        "            (A[i], A[j]) = (A[j], A[i])\n",
        "    (A[i + 1], A[direita]) = (A[direita], A[i + 1])\n",
        "    return i + 1\n",
        "\n",
        "def quickSort(A, esquerda, direita):\n",
        "  if esquerda < direita:\n",
        "        pi = particao(A, esquerda, direita)\n",
        "        quickSort(A, esquerda, pi - 1)\n",
        "        quickSort(A, pi + 1, direita)\n",
        "  return A"
      ]
    },
    {
      "cell_type": "markdown",
      "metadata": {
        "id": "VomdAnCrzEv1"
      },
      "source": [
        "# Questões"
      ]
    },
    {
      "cell_type": "markdown",
      "metadata": {
        "id": "3QKV979kzItD"
      },
      "source": [
        "\n",
        "\n",
        "1.   Escolha pelo menos 3 arranjos. Ex: ***A[5,...,1000,...,100]*** e mostre o funcionamento dos Algoritmos realizando a ordenação.\n",
        "\n",
        "\n",
        "\n"
      ]
    },
    {
      "cell_type": "code",
      "execution_count": null,
      "metadata": {
        "colab": {
          "base_uri": "https://localhost:8080/"
        },
        "id": "nBfs279_1Vko",
        "outputId": "801b7e87-de8e-4cad-ab3b-9f48bec6f86f"
      },
      "outputs": [
        {
          "output_type": "stream",
          "name": "stdout",
          "text": [
            "Retornos do insertionSort: \n",
            "entrada1: \n",
            "[-15, -5, 1, 2, 26, 32, 41, 58, 59, 64]\n",
            "entrada2: \n",
            "[-10, -5, 0, 1, 3, 6, 8, 12, 12, 25, 78]\n",
            "entrada3: \n",
            "[-125, -45, -8, -2, 1, 2, 6, 9, 14, 20, 56, 74, 75, 125]\n",
            "---------------------------------------------------\n",
            "Retornos do mergeSort: \n",
            "entrada1: \n",
            "[-15, -5, 1, 2, 26, 32, 41, 58, 59, 64]\n",
            "entrada2: \n",
            "[-10, -5, 0, 1, 3, 6, 8, 12, 12, 25, 78]\n",
            "entrada3: \n",
            "[-125, -45, -8, -2, 1, 2, 6, 9, 14, 20, 56, 74, 75, 125]\n",
            "---------------------------------------------------\n",
            "Retornos do selectionSort: \n",
            "entrada1: \n",
            "[-15, -5, 1, 2, 26, 32, 41, 58, 59, 64]\n",
            "entrada2: \n",
            "[-10, -5, 0, 1, 3, 6, 8, 12, 12, 25, 78]\n",
            "entrada3: \n",
            "[-125, -45, -8, -2, 1, 2, 6, 9, 14, 20, 56, 74, 75, 125]\n",
            "---------------------------------------------------\n",
            "Retornos do bubbleSort: \n",
            "entrada1: \n",
            "[-15, -5, 1, 2, 26, 32, 41, 58, 59, 64]\n",
            "entrada2: \n",
            "[-10, -5, 0, 1, 3, 6, 8, 12, 12, 25, 78]\n",
            "entrada3: \n",
            "[-125, -45, -8, -2, 1, 2, 6, 9, 14, 20, 56, 74, 75, 125]\n",
            "---------------------------------------------------\n",
            "Retornos do heapSort: \n",
            "entrada1: \n",
            "[-15, -5, 1, 2, 26, 32, 41, 58, 59, 64]\n",
            "entrada2: \n",
            "[-10, -5, 0, 1, 3, 6, 8, 12, 12, 25, 78]\n",
            "entrada3: \n",
            "[-125, -45, -8, -2, 1, 2, 6, 9, 14, 20, 56, 74, 75, 125]\n",
            "---------------------------------------------------\n",
            "Retornos do quickSort: \n",
            "entrada1: \n",
            "[-15, -5, 1, 2, 26, 32, 41, 58, 59, 64]\n",
            "entrada2: \n",
            "[-10, -5, 0, 1, 3, 6, 8, 12, 12, 25, 78]\n",
            "entrada3: \n",
            "[-125, -45, -8, -2, 1, 2, 6, 9, 14, 20, 56, 74, 75, 125]\n"
          ]
        }
      ],
      "source": [
        "print(\"Retornos do insertionSort: \")\n",
        "print(\"entrada1: \")\n",
        "print(insertionSort(entrada1))\n",
        "print(\"entrada2: \")\n",
        "print(insertionSort(entrada2))\n",
        "print(\"entrada3: \")\n",
        "print(insertionSort(entrada3))\n",
        "\n",
        "print(\"---------------------------------------------------\")\n",
        "\n",
        "print(\"Retornos do mergeSort: \")\n",
        "print(\"entrada1: \")\n",
        "print(mergeSort(entrada1))\n",
        "print(\"entrada2: \")\n",
        "print(mergeSort(entrada2))\n",
        "print(\"entrada3: \")\n",
        "print(mergeSort(entrada3))\n",
        "\n",
        "print(\"---------------------------------------------------\")\n",
        "\n",
        "print(\"Retornos do selectionSort: \")\n",
        "print(\"entrada1: \")\n",
        "print(selectionSort(entrada1))\n",
        "print(\"entrada2: \")\n",
        "print(selectionSort(entrada2))\n",
        "print(\"entrada3: \")\n",
        "print(selectionSort(entrada3))\n",
        "\n",
        "print(\"---------------------------------------------------\")\n",
        "\n",
        "print(\"Retornos do bubbleSort: \")\n",
        "print(\"entrada1: \")\n",
        "print(bubbleSort(entrada1))\n",
        "print(\"entrada2: \")\n",
        "print(bubbleSort(entrada2))\n",
        "print(\"entrada3: \")\n",
        "print(bubbleSort(entrada3))\n",
        "\n",
        "print(\"---------------------------------------------------\")\n",
        "\n",
        "print(\"Retornos do heapSort: \")\n",
        "print(\"entrada1: \")\n",
        "print(heapSort(entrada1))\n",
        "print(\"entrada2: \")\n",
        "print(heapSort(entrada2))\n",
        "print(\"entrada3: \")\n",
        "print(heapSort(entrada3))\n",
        "\n",
        "print(\"---------------------------------------------------\")\n",
        "\n",
        "print(\"Retornos do quickSort: \")\n",
        "print(\"entrada1: \")\n",
        "print(quickSort(entrada1, 0, len(entrada1)-1))\n",
        "print(\"entrada2: \")\n",
        "print(quickSort(entrada2, 0, len(entrada2)-1))\n",
        "print(\"entrada3: \")\n",
        "print(quickSort(entrada3, 0, len(entrada3)-1))"
      ]
    }
  ],
  "metadata": {
    "colab": {
      "collapsed_sections": [
        "8dWpeYUvw-wU"
      ],
      "provenance": [],
      "include_colab_link": true
    },
    "kernelspec": {
      "display_name": "Python 3",
      "name": "python3"
    },
    "language_info": {
      "name": "python"
    }
  },
  "nbformat": 4,
  "nbformat_minor": 0
}